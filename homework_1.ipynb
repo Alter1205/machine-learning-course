{
  "nbformat": 4,
  "nbformat_minor": 0,
  "metadata": {
    "colab": {
      "name": "homework_1.ipynb",
      "provenance": [],
      "collapsed_sections": [],
      "authorship_tag": "ABX9TyOtl6wIqsEywkfQUT1b6ohh",
      "include_colab_link": true
    },
    "kernelspec": {
      "name": "python3",
      "display_name": "Python 3"
    }
  },
  "cells": [
    {
      "cell_type": "markdown",
      "metadata": {
        "id": "view-in-github",
        "colab_type": "text"
      },
      "source": [
        "<a href=\"https://colab.research.google.com/github/Alter1205/machine-learning-course/blob/master/homework_1.ipynb\" target=\"_parent\"><img src=\"https://colab.research.google.com/assets/colab-badge.svg\" alt=\"Open In Colab\"/></a>"
      ]
    },
    {
      "cell_type": "code",
      "metadata": {
        "id": "EgZQfkxITtSW",
        "colab": {
          "base_uri": "https://localhost:8080/"
        },
        "outputId": "217c6a0f-de82-4d70-ee05-b41339b6fdac"
      },
      "source": [
        "# BT1: cho 1 biến data kiểu string như bên dưới\n",
        "data = '''Come to the\n",
        "River\n",
        "Of my\n",
        "Soulful\n",
        "Sentiments\n",
        "Meandering silently\n",
        "Yearning for release.\n",
        "Hasten\n",
        "Earnestly\n",
        "As my love flows by\n",
        "Rushing through the flood-gates\n",
        "To your heart.'''\n",
        "\n",
        "first_word = data.split(\"\\n\")\n",
        "#print(first_word)\n",
        "res = \"\"\n",
        "for word in first_word:\n",
        "  #print(word,len(word))\n",
        "  res= res+ str(word[0])\n",
        "\n",
        "print(res)\n",
        "# https://www.poetrysoup.com/poem/cross_my_heart_609765\n",
        "\n",
        "# Yêu cầu: giải mã mật thư, lấy tất cả các chữ cái đầu của từng dòng rồi ghép lại để được 1 câu cụ thể."
      ],
      "execution_count": null,
      "outputs": [
        {
          "output_type": "stream",
          "text": [
            "CROSSMYHEART\n"
          ],
          "name": "stdout"
        }
      ]
    },
    {
      "cell_type": "code",
      "metadata": {
        "id": "-sIchVe5e_TL",
        "colab": {
          "base_uri": "https://localhost:8080/"
        },
        "outputId": "0f4c259e-5cec-442e-d2f9-484849a1a33a"
      },
      "source": [
        "# BT2: Tính tổng tất cả các chữ số trong kết quả của phép tính 2**10000\n",
        "x = 2**10000\n",
        "\n",
        "total = 0;\n",
        "\n",
        "while (x > 0):\n",
        "        total = total + x % 10;\n",
        "        x = int(x // 10);\n",
        "\n",
        "print(total)"
      ],
      "execution_count": 1,
      "outputs": [
        {
          "output_type": "stream",
          "text": [
            "13561\n"
          ],
          "name": "stdout"
        }
      ]
    },
    {
      "cell_type": "code",
      "metadata": {
        "id": "1kp6MilNfVKa",
        "colab": {
          "base_uri": "https://localhost:8080/"
        },
        "outputId": "eeb51e88-c8cb-4314-d887-ad9d0153fdc6"
      },
      "source": [
        "# BT3: \n",
        "\n",
        "import string\n",
        "#string.punctuation \n",
        "\n",
        "s = \"\"\"Ngư60ời 'theo hư@ơng' hoa 100mây mù [giăng lối]\n",
        "Làn 25 sương khó30i phôi phai 90 đưa bư$ớc ai xa rồi 35\n",
        "100Đơn c#ôi m99ình ta {vấn vương} hồi ức tro^ng ... men say (chiều mưa) buồ80n \n",
        "Ng~ăn \"giọt lệ\" ngừng k2hiến khoé mi sầu bi.1\"\"\"\n",
        "\n",
        "out = s.translate(s.maketrans('', '', string.punctuation))\n",
        "out = out.translate(s.maketrans('','',string.digits))\n",
        "\n",
        "print(out)"
      ],
      "execution_count": null,
      "outputs": [
        {
          "output_type": "stream",
          "text": [
            "Người theo hương hoa mây mù giăng lối\n",
            "Làn  sương khói phôi phai  đưa bước ai xa rồi \n",
            "Đơn côi mình ta vấn vương hồi ức trong  men say chiều mưa buồn \n",
            "Ngăn giọt lệ ngừng khiến khoé mi sầu bi\n"
          ],
          "name": "stdout"
        }
      ]
    },
    {
      "cell_type": "code",
      "metadata": {
        "id": "cxg8BJyOzXvP",
        "colab": {
          "base_uri": "https://localhost:8080/"
        },
        "outputId": "f602c64c-e0f0-4713-e779-9c32aa999375"
      },
      "source": [
        "# BT4\n",
        "# Giải bài toán lớp 3 sau: https://vnexpress.net/bai-toan-lop-3-co-so-luong-dap-an-khong-lo-3220439.html\n",
        "\n",
        "# Các biến liệt kê bên dưới nằm trong đoạn từ 1 đến 9, hỏi có bn bộ giá trị thỏa mãn điều kiện sau:\n",
        "\n",
        "# a + 13 * b / c + d + 12 * e - f - 11 + g * h / i - 10 = 66\n",
        "res = 0\n",
        "for a in range(1,10):\n",
        "  for b in range(1,10):\n",
        "    for c in range(1,10):\n",
        "      for d in range(1,10):\n",
        "        for e in range(1,10):\n",
        "          for f in range(1,10):\n",
        "            for g in range(1,10):\n",
        "              for h in range(1,10):\n",
        "                for i in range(1,10):\n",
        "                  if a + 13 * b / c + d + 12 * e - f - 11 + g * h / i - 10 == 66:\n",
        "                    res += 1\n",
        "\n",
        "print(res)\n",
        "          "
      ],
      "execution_count": null,
      "outputs": [
        {
          "output_type": "stream",
          "text": [
            "442232\n"
          ],
          "name": "stdout"
        }
      ]
    },
    {
      "cell_type": "code",
      "metadata": {
        "id": "s_l4t1nb7Fua"
      },
      "source": [
        ""
      ],
      "execution_count": null,
      "outputs": []
    },
    {
      "cell_type": "code",
      "metadata": {
        "id": "hZWiV_SD7P0W",
        "colab": {
          "base_uri": "https://localhost:8080/"
        },
        "outputId": "b5547a13-42bb-47f0-b8de-296b5bb96240"
      },
      "source": [
        "# BT5\n",
        "# Nếu lần lượt cho các giá trị trong bảng chữ cái tiếng Anh như sau: a = 1, b = 2, c = 3, .... thì tổng giá trị của các từ khi quy đổi ra số là như sau:\n",
        "# abc = 1 + 2 + 3 = 6\n",
        "# defgh = 4 + 5 + 6 + 7 + 8 = 30 \n",
        "# ....\n",
        "# Hỏi các từ sau có giá trị là bao nhiêu: python, patience, documents, students, homework, practice, success, english, university, congratulation\n",
        "\n",
        "res1 = 0\n",
        "\n",
        "str1 = \"python\"\n",
        "str2 = \"patience\"\n",
        "str3 = \"documents\"\n",
        "str4 = \"students\"\n",
        "str5 = \"homework\"\n",
        "str6 = \"practice\"\n",
        "str7 = \"success\"\n",
        "str8 = \"english\"\n",
        "str9 = \"university\"\n",
        "str10 = \"congratulation\"\n",
        "\n",
        "for letter in str1:\n",
        "  number = ord(letter) - 96\n",
        "  res1 += number\n",
        "print(str1+ \" \" + str(res1))\n",
        "\n",
        "res1 = 0\n",
        "for letter in str2:\n",
        "  number = ord(letter) - 96\n",
        "  res1 += number\n",
        "print(str2+ \" \" + str(res1))\n",
        "\n",
        "res1 = 0\n",
        "for letter in str3:\n",
        "  number = ord(letter) - 96\n",
        "  res1 += number\n",
        "print(str3 + \" \" + str(res1))\n",
        "\n",
        "res1 = 0\n",
        "for letter in str4:\n",
        "  number = ord(letter) - 96\n",
        "  res1 += number\n",
        "print(str4 + \" \" + str(res1))\n",
        "\n",
        "res1 = 0\n",
        "for letter in str5:\n",
        "  number = ord(letter) - 96\n",
        "  res1 += number\n",
        "print(str5 + \" \" + str(res1))\n",
        "\n",
        "res1 = 0\n",
        "for letter in str6:\n",
        "  number = ord(letter) - 96\n",
        "  res1 += number\n",
        "print(str6 + \" \" + str(res1))\n",
        "\n",
        "res1 = 0\n",
        "for letter in str7:\n",
        "  number = ord(letter) - 96\n",
        "  res1 += number\n",
        "print(str7 + \" \" + str(res1))\n",
        "\n",
        "res1 = 0\n",
        "for letter in str8:\n",
        "  number = ord(letter) - 96\n",
        "  res1 += number\n",
        "print(str8 + \" \" + str(res1))\n",
        "\n",
        "res1 = 0\n",
        "for letter in str9:\n",
        "  number = ord(letter) - 96\n",
        "  res1 += number\n",
        "print(str9 + \" \" + str(res1))\n",
        "\n",
        "res1 = 0\n",
        "for letter in str10:\n",
        "  number = ord(letter) - 96\n",
        "  res1 += number\n",
        "print(str10 + \" \" + str(res1))\n"
      ],
      "execution_count": null,
      "outputs": [
        {
          "output_type": "stream",
          "text": [
            "python 98\n",
            "patience 73\n",
            "documents 114\n",
            "students 122\n",
            "homework 108\n",
            "practice 75\n",
            "success 89\n",
            "english 74\n",
            "university 162\n",
            "congratulation 170\n"
          ],
          "name": "stdout"
        }
      ]
    },
    {
      "cell_type": "code",
      "metadata": {
        "id": "i4RR_0dihXxY"
      },
      "source": [
        "# import string \n",
        "# string.punctuation?\n",
        "\n",
        "#range?\n",
        "\n"
      ],
      "execution_count": null,
      "outputs": []
    },
    {
      "cell_type": "code",
      "metadata": {
        "id": "vJXO2hLNCMBc",
        "colab": {
          "base_uri": "https://localhost:8080/"
        },
        "outputId": "ed40c9bf-4fd4-44e9-9bbc-bbe27c685e9e"
      },
      "source": [
        "# BT6\n",
        "# Viết code sinh các số Fibonacci dưới 1000, lưu giữ kết quả vào 1 list.\n",
        "\n",
        "n1, n2 = 0, 1\n",
        "\n",
        "numbers = []\n",
        "while n1 < 1000:\n",
        "       numbers.append(n1)\n",
        "       nth = n1 + n2\n",
        "       n1 = n2\n",
        "       n2 = nth\n",
        "\n",
        "print(numbers)"
      ],
      "execution_count": null,
      "outputs": [
        {
          "output_type": "stream",
          "text": [
            "[0, 1, 1, 2, 3, 5, 8, 13, 21, 34, 55, 89, 144, 233, 377, 610, 987]\n"
          ],
          "name": "stdout"
        }
      ]
    },
    {
      "cell_type": "code",
      "metadata": {
        "id": "S1luOjreDa4t",
        "colab": {
          "base_uri": "https://localhost:8080/"
        },
        "outputId": "64275152-c9cd-4a88-88c7-3ed918acbbe6"
      },
      "source": [
        "# BT7\n",
        "# Viết code sinh các số nguyên tố dưới 10000, lưu giữ kết quả vào 1 list.\n",
        "p_num = []\n",
        "for num in range(1, 10000):\n",
        "   if num > 1:\n",
        "       for i in range(2, num):\n",
        "           if (num % i) == 0:\n",
        "               break\n",
        "       else:\n",
        "          p_num.append(num)\n",
        "           #print(num)\n",
        "\n",
        "print(p_num)"
      ],
      "execution_count": null,
      "outputs": [
        {
          "output_type": "stream",
          "text": [
            "[2, 3, 5, 7, 11, 13, 17, 19, 23, 29, 31, 37, 41, 43, 47, 53, 59, 61, 67, 71, 73, 79, 83, 89, 97, 101, 103, 107, 109, 113, 127, 131, 137, 139, 149, 151, 157, 163, 167, 173, 179, 181, 191, 193, 197, 199, 211, 223, 227, 229, 233, 239, 241, 251, 257, 263, 269, 271, 277, 281, 283, 293, 307, 311, 313, 317, 331, 337, 347, 349, 353, 359, 367, 373, 379, 383, 389, 397, 401, 409, 419, 421, 431, 433, 439, 443, 449, 457, 461, 463, 467, 479, 487, 491, 499, 503, 509, 521, 523, 541, 547, 557, 563, 569, 571, 577, 587, 593, 599, 601, 607, 613, 617, 619, 631, 641, 643, 647, 653, 659, 661, 673, 677, 683, 691, 701, 709, 719, 727, 733, 739, 743, 751, 757, 761, 769, 773, 787, 797, 809, 811, 821, 823, 827, 829, 839, 853, 857, 859, 863, 877, 881, 883, 887, 907, 911, 919, 929, 937, 941, 947, 953, 967, 971, 977, 983, 991, 997, 1009, 1013, 1019, 1021, 1031, 1033, 1039, 1049, 1051, 1061, 1063, 1069, 1087, 1091, 1093, 1097, 1103, 1109, 1117, 1123, 1129, 1151, 1153, 1163, 1171, 1181, 1187, 1193, 1201, 1213, 1217, 1223, 1229, 1231, 1237, 1249, 1259, 1277, 1279, 1283, 1289, 1291, 1297, 1301, 1303, 1307, 1319, 1321, 1327, 1361, 1367, 1373, 1381, 1399, 1409, 1423, 1427, 1429, 1433, 1439, 1447, 1451, 1453, 1459, 1471, 1481, 1483, 1487, 1489, 1493, 1499, 1511, 1523, 1531, 1543, 1549, 1553, 1559, 1567, 1571, 1579, 1583, 1597, 1601, 1607, 1609, 1613, 1619, 1621, 1627, 1637, 1657, 1663, 1667, 1669, 1693, 1697, 1699, 1709, 1721, 1723, 1733, 1741, 1747, 1753, 1759, 1777, 1783, 1787, 1789, 1801, 1811, 1823, 1831, 1847, 1861, 1867, 1871, 1873, 1877, 1879, 1889, 1901, 1907, 1913, 1931, 1933, 1949, 1951, 1973, 1979, 1987, 1993, 1997, 1999, 2003, 2011, 2017, 2027, 2029, 2039, 2053, 2063, 2069, 2081, 2083, 2087, 2089, 2099, 2111, 2113, 2129, 2131, 2137, 2141, 2143, 2153, 2161, 2179, 2203, 2207, 2213, 2221, 2237, 2239, 2243, 2251, 2267, 2269, 2273, 2281, 2287, 2293, 2297, 2309, 2311, 2333, 2339, 2341, 2347, 2351, 2357, 2371, 2377, 2381, 2383, 2389, 2393, 2399, 2411, 2417, 2423, 2437, 2441, 2447, 2459, 2467, 2473, 2477, 2503, 2521, 2531, 2539, 2543, 2549, 2551, 2557, 2579, 2591, 2593, 2609, 2617, 2621, 2633, 2647, 2657, 2659, 2663, 2671, 2677, 2683, 2687, 2689, 2693, 2699, 2707, 2711, 2713, 2719, 2729, 2731, 2741, 2749, 2753, 2767, 2777, 2789, 2791, 2797, 2801, 2803, 2819, 2833, 2837, 2843, 2851, 2857, 2861, 2879, 2887, 2897, 2903, 2909, 2917, 2927, 2939, 2953, 2957, 2963, 2969, 2971, 2999, 3001, 3011, 3019, 3023, 3037, 3041, 3049, 3061, 3067, 3079, 3083, 3089, 3109, 3119, 3121, 3137, 3163, 3167, 3169, 3181, 3187, 3191, 3203, 3209, 3217, 3221, 3229, 3251, 3253, 3257, 3259, 3271, 3299, 3301, 3307, 3313, 3319, 3323, 3329, 3331, 3343, 3347, 3359, 3361, 3371, 3373, 3389, 3391, 3407, 3413, 3433, 3449, 3457, 3461, 3463, 3467, 3469, 3491, 3499, 3511, 3517, 3527, 3529, 3533, 3539, 3541, 3547, 3557, 3559, 3571, 3581, 3583, 3593, 3607, 3613, 3617, 3623, 3631, 3637, 3643, 3659, 3671, 3673, 3677, 3691, 3697, 3701, 3709, 3719, 3727, 3733, 3739, 3761, 3767, 3769, 3779, 3793, 3797, 3803, 3821, 3823, 3833, 3847, 3851, 3853, 3863, 3877, 3881, 3889, 3907, 3911, 3917, 3919, 3923, 3929, 3931, 3943, 3947, 3967, 3989, 4001, 4003, 4007, 4013, 4019, 4021, 4027, 4049, 4051, 4057, 4073, 4079, 4091, 4093, 4099, 4111, 4127, 4129, 4133, 4139, 4153, 4157, 4159, 4177, 4201, 4211, 4217, 4219, 4229, 4231, 4241, 4243, 4253, 4259, 4261, 4271, 4273, 4283, 4289, 4297, 4327, 4337, 4339, 4349, 4357, 4363, 4373, 4391, 4397, 4409, 4421, 4423, 4441, 4447, 4451, 4457, 4463, 4481, 4483, 4493, 4507, 4513, 4517, 4519, 4523, 4547, 4549, 4561, 4567, 4583, 4591, 4597, 4603, 4621, 4637, 4639, 4643, 4649, 4651, 4657, 4663, 4673, 4679, 4691, 4703, 4721, 4723, 4729, 4733, 4751, 4759, 4783, 4787, 4789, 4793, 4799, 4801, 4813, 4817, 4831, 4861, 4871, 4877, 4889, 4903, 4909, 4919, 4931, 4933, 4937, 4943, 4951, 4957, 4967, 4969, 4973, 4987, 4993, 4999, 5003, 5009, 5011, 5021, 5023, 5039, 5051, 5059, 5077, 5081, 5087, 5099, 5101, 5107, 5113, 5119, 5147, 5153, 5167, 5171, 5179, 5189, 5197, 5209, 5227, 5231, 5233, 5237, 5261, 5273, 5279, 5281, 5297, 5303, 5309, 5323, 5333, 5347, 5351, 5381, 5387, 5393, 5399, 5407, 5413, 5417, 5419, 5431, 5437, 5441, 5443, 5449, 5471, 5477, 5479, 5483, 5501, 5503, 5507, 5519, 5521, 5527, 5531, 5557, 5563, 5569, 5573, 5581, 5591, 5623, 5639, 5641, 5647, 5651, 5653, 5657, 5659, 5669, 5683, 5689, 5693, 5701, 5711, 5717, 5737, 5741, 5743, 5749, 5779, 5783, 5791, 5801, 5807, 5813, 5821, 5827, 5839, 5843, 5849, 5851, 5857, 5861, 5867, 5869, 5879, 5881, 5897, 5903, 5923, 5927, 5939, 5953, 5981, 5987, 6007, 6011, 6029, 6037, 6043, 6047, 6053, 6067, 6073, 6079, 6089, 6091, 6101, 6113, 6121, 6131, 6133, 6143, 6151, 6163, 6173, 6197, 6199, 6203, 6211, 6217, 6221, 6229, 6247, 6257, 6263, 6269, 6271, 6277, 6287, 6299, 6301, 6311, 6317, 6323, 6329, 6337, 6343, 6353, 6359, 6361, 6367, 6373, 6379, 6389, 6397, 6421, 6427, 6449, 6451, 6469, 6473, 6481, 6491, 6521, 6529, 6547, 6551, 6553, 6563, 6569, 6571, 6577, 6581, 6599, 6607, 6619, 6637, 6653, 6659, 6661, 6673, 6679, 6689, 6691, 6701, 6703, 6709, 6719, 6733, 6737, 6761, 6763, 6779, 6781, 6791, 6793, 6803, 6823, 6827, 6829, 6833, 6841, 6857, 6863, 6869, 6871, 6883, 6899, 6907, 6911, 6917, 6947, 6949, 6959, 6961, 6967, 6971, 6977, 6983, 6991, 6997, 7001, 7013, 7019, 7027, 7039, 7043, 7057, 7069, 7079, 7103, 7109, 7121, 7127, 7129, 7151, 7159, 7177, 7187, 7193, 7207, 7211, 7213, 7219, 7229, 7237, 7243, 7247, 7253, 7283, 7297, 7307, 7309, 7321, 7331, 7333, 7349, 7351, 7369, 7393, 7411, 7417, 7433, 7451, 7457, 7459, 7477, 7481, 7487, 7489, 7499, 7507, 7517, 7523, 7529, 7537, 7541, 7547, 7549, 7559, 7561, 7573, 7577, 7583, 7589, 7591, 7603, 7607, 7621, 7639, 7643, 7649, 7669, 7673, 7681, 7687, 7691, 7699, 7703, 7717, 7723, 7727, 7741, 7753, 7757, 7759, 7789, 7793, 7817, 7823, 7829, 7841, 7853, 7867, 7873, 7877, 7879, 7883, 7901, 7907, 7919, 7927, 7933, 7937, 7949, 7951, 7963, 7993, 8009, 8011, 8017, 8039, 8053, 8059, 8069, 8081, 8087, 8089, 8093, 8101, 8111, 8117, 8123, 8147, 8161, 8167, 8171, 8179, 8191, 8209, 8219, 8221, 8231, 8233, 8237, 8243, 8263, 8269, 8273, 8287, 8291, 8293, 8297, 8311, 8317, 8329, 8353, 8363, 8369, 8377, 8387, 8389, 8419, 8423, 8429, 8431, 8443, 8447, 8461, 8467, 8501, 8513, 8521, 8527, 8537, 8539, 8543, 8563, 8573, 8581, 8597, 8599, 8609, 8623, 8627, 8629, 8641, 8647, 8663, 8669, 8677, 8681, 8689, 8693, 8699, 8707, 8713, 8719, 8731, 8737, 8741, 8747, 8753, 8761, 8779, 8783, 8803, 8807, 8819, 8821, 8831, 8837, 8839, 8849, 8861, 8863, 8867, 8887, 8893, 8923, 8929, 8933, 8941, 8951, 8963, 8969, 8971, 8999, 9001, 9007, 9011, 9013, 9029, 9041, 9043, 9049, 9059, 9067, 9091, 9103, 9109, 9127, 9133, 9137, 9151, 9157, 9161, 9173, 9181, 9187, 9199, 9203, 9209, 9221, 9227, 9239, 9241, 9257, 9277, 9281, 9283, 9293, 9311, 9319, 9323, 9337, 9341, 9343, 9349, 9371, 9377, 9391, 9397, 9403, 9413, 9419, 9421, 9431, 9433, 9437, 9439, 9461, 9463, 9467, 9473, 9479, 9491, 9497, 9511, 9521, 9533, 9539, 9547, 9551, 9587, 9601, 9613, 9619, 9623, 9629, 9631, 9643, 9649, 9661, 9677, 9679, 9689, 9697, 9719, 9721, 9733, 9739, 9743, 9749, 9767, 9769, 9781, 9787, 9791, 9803, 9811, 9817, 9829, 9833, 9839, 9851, 9857, 9859, 9871, 9883, 9887, 9901, 9907, 9923, 9929, 9931, 9941, 9949, 9967, 9973]\n"
          ],
          "name": "stdout"
        }
      ]
    },
    {
      "cell_type": "code",
      "metadata": {
        "id": "w_b0nm2wFJMo",
        "colab": {
          "base_uri": "https://localhost:8080/"
        },
        "outputId": "bdca6e2c-3d31-458c-c165-6db2c70b4be7"
      },
      "source": [
        "# BT8\n",
        "# Trả về dict chứa 10 phần tử xuất hiện nhiều nhất cùng số lần xuất hiện theo format:\n",
        "# result = {\"if\": 10, ...}\n",
        "# Lưu ý: không quan trọng uppercase và lowercase\n",
        "\n",
        "import string\n",
        "\n",
        "data1 = \"\"\"Python is an easy to learn, powerful programming language. It has efficient high-level data structures and a simple but effective approach to object-oriented programming. Python’s elegant syntax and dynamic typing, together with its interpreted nature, make it an ideal language for scripting and rapid application development in many areas on most platforms.\n",
        "\n",
        "The Python interpreter and the extensive standard library are freely available in source or binary form for all major platforms from the Python Web site, https://www.python.org/, and may be freely distributed. The same site also contains distributions of and pointers to many free third party Python modules, programs and tools, and additional documentation.\n",
        "\n",
        "The Python interpreter is easily extended with new functions and data types implemented in C or C++ (or other languages callable from C). Python is also suitable as an extension language for customizable applications.\n",
        "\n",
        "This tutorial introduces the reader informally to the basic concepts and features of the Python language and system. It helps to have a Python interpreter handy for hands-on experience, but all examples are self-contained, so the tutorial can be read off-line as well.\n",
        "\n",
        "For a description of standard objects and modules, see The Python Standard Library. The Python Language Reference gives a more formal definition of the language. To write extensions in C or C++, read Extending and Embedding the Python Interpreter and Python/C API Reference Manual. There are also several books covering Python in depth.\n",
        "\n",
        "This tutorial does not attempt to be comprehensive and cover every single feature, or even every commonly used feature. Instead, it introduces many of Python’s most noteworthy features, and will give you a good idea of the language’s flavor and style. After reading it, you will be able to read and write Python modules and programs, and you will be ready to learn more about the various Python library modules described in The Python Standard Library.\"\"\"\n",
        "\n",
        "# print(string.punctuation)\n",
        "\n",
        "# out = data1.translate(data1.maketrans('', '', string.punctuation))\n",
        "# print(out)\n",
        "data1 = data1.lower() \n",
        "data = data1.split(\" \")\n",
        " \n",
        "count = {}\n",
        "result = {}\n",
        "\n",
        "print('result = {', end = '')\n",
        "for i in data:\n",
        "    if i in count:\n",
        "        count[i]+=1\n",
        "    else:\n",
        "        count[i]=1\n",
        "\n",
        "z = 0\n",
        "\n",
        "for i in sorted(count, key=count.get, reverse= True ):\n",
        "    if z < 9:\n",
        "       print(\"\\\"\" + i + \"\\\" :\" + str(count[i]) + \",\", end='')\n",
        "       z += 1\n",
        "    else:\n",
        "       print(\"\\\"\" + i + \"\\\" :\" + str(count[i]), end='}')\n",
        "       break\n"
      ],
      "execution_count": null,
      "outputs": [
        {
          "output_type": "stream",
          "text": [
            "result = {\"and\" :20,\"python\" :15,\"the\" :14,\"to\" :9,\"in\" :6,\"of\" :6,\"a\" :5,\"be\" :5,\"it\" :4,\"language\" :4}"
          ],
          "name": "stdout"
        }
      ]
    },
    {
      "cell_type": "code",
      "metadata": {
        "id": "fsQdRly9Q1Qp",
        "colab": {
          "base_uri": "https://localhost:8080/"
        },
        "outputId": "b0e68707-2587-4245-baf9-06e5c41cd722"
      },
      "source": [
        "# BT9\n",
        "# Với 2 list:\n",
        "L1 = [1, 2, 3, 4, 5, 6]\n",
        "L2 = [3, 4, 5, 6, 7, 8, 9, 10]\n",
        "# Lấy các phần tử:\n",
        "# Có trong cả A, B\n",
        "# Chỉ có trong A\n",
        "# Chỉ có trong B\n",
        "# Không có trong cả A và B\n",
        "\n",
        "x = set(L1)\n",
        "y = set(L2)\n",
        "\n",
        "print( x & y)\n",
        "print( x - y)\n",
        "print( y - x)\n",
        "print( x ^ y)\n",
        "\n",
        "\n"
      ],
      "execution_count": null,
      "outputs": [
        {
          "output_type": "stream",
          "text": [
            "{3, 4, 5, 6}\n",
            "{1, 2}\n",
            "{8, 9, 10, 7}\n",
            "{1, 2, 7, 8, 9, 10}\n"
          ],
          "name": "stdout"
        }
      ]
    },
    {
      "cell_type": "code",
      "metadata": {
        "id": "jesiz4n3I8HQ",
        "colab": {
          "base_uri": "https://localhost:8080/"
        },
        "outputId": "d6f95d9a-6376-471e-93b2-21a5aa836b71"
      },
      "source": [
        "# BT10\n",
        "# Trả về 1 list n tuple được định nghĩa như sau:\n",
        "# years = [(1900, \"Canh Tí\"), ... (2019, \"Kỷ Hợi\")]\n",
        "# với năm chạy từ 1900 đến 2019, output yêu cầu trả về đúng như format bên trên, bao gồm năm và can chi tương ứng\n",
        "# Chú ý viết hoa các chữ cái đầu\n",
        "\n",
        "can =['Canh','Tân','Nhâm','Quý','Giáp','Ất','Bính','Đinh','Mậu','Kỷ']\n",
        "chi =['Tý','Sửu','Dần','Mão','Thìn','Tỵ','Ngọ','Mùi','Thân','Dậu','Tất','Hợi']\n",
        "can_chi = []\n",
        "\n",
        "\n",
        "    \n",
        "#print(can[0])\n",
        "\n",
        "for i in range()\n",
        "\n",
        "for i in range(1900,2020):\n",
        "  for j in range()\n",
        "\n",
        "print(years)"
      ],
      "execution_count": null,
      "outputs": [
        {
          "output_type": "stream",
          "text": [
            "Canh\n"
          ],
          "name": "stdout"
        }
      ]
    },
    {
      "cell_type": "code",
      "metadata": {
        "id": "C9tli2DknaHQ",
        "colab": {
          "base_uri": "https://localhost:8080/"
        },
        "outputId": "6cacc905-967b-4776-9568-0250cad9e2c0"
      },
      "source": [
        "import itertools\n",
        "\n",
        "years = []\n",
        "\n",
        "years_name = \"\"\"Giáp Tý\n",
        "Ất Sửu\n",
        "Bính Dần\n",
        "Đinh Mão (Mẹo)\n",
        "Mậu Thìn\n",
        "Kỷ Tỵ\n",
        "Canh Ngọ\n",
        "Tân Mùi\n",
        "Nhâm Thân\n",
        "Quý Dậu\n",
        "Giáp Tuất\n",
        "Ất Hợi\n",
        "Bính Tý\n",
        "Đinh Sửu\n",
        "Mậu Dần\n",
        "Kỷ Mão (Mẹo)\n",
        "Canh Thìn\n",
        "Tân Tỵ\n",
        "Nhâm Ngọ\n",
        "Quý Mùi\n",
        "Giáp Thân\n",
        "Ất Dậu\n",
        "Bính Tuất\n",
        "Đinh Hợi\n",
        "Mậu Tý\n",
        "Kỷ Sửu\n",
        "Canh Dần\n",
        "Tân Mão (Mẹo)\n",
        "Nhâm Thìn\n",
        "Quý Tỵ\n",
        "Giáp Ngọ\n",
        "Ất Mùi\n",
        "Bính Thân\n",
        "Đinh Dậu\n",
        "Mậu Tuất\n",
        "Kỷ Hợi\n",
        "Canh Tý\n",
        "Tân Sửu\n",
        "Nhâm Dần\n",
        "Quý Mão (Mẹo)\n",
        "Giáp Thìn\n",
        "Ất Tỵ\n",
        "Bính Ngọ\n",
        "Đinh Mùi\n",
        "Mậu Thân\n",
        "Kỷ Dậu\n",
        "Canh Tuất\n",
        "Tân Hợi\n",
        "Nhâm Tý\n",
        "Quý Sửu\n",
        "Giáp Dần\n",
        "Ất Mão (Mẹo)\n",
        "Bính Thìn\n",
        "Đinh Tỵ\n",
        "Mậu Ngọ\n",
        "Kỷ Mùi\n",
        "Canh Thân\n",
        "Tân Dậu\n",
        "Nhâm Tuất\n",
        "Quý Hợi\"\"\"\n",
        "\n",
        "year_names = years_name.split(\"\\n\")\n",
        "\n",
        "#print(year_names)\n",
        "\n",
        "for i in range (1900,2020):\n",
        "  tmp = str(i) + ' ' + year_names[i%60-4]\n",
        "  years.append(tmp)\n",
        "\n",
        "years"
      ],
      "execution_count": null,
      "outputs": [
        {
          "output_type": "execute_result",
          "data": {
            "text/plain": [
              "['1900 Canh Tý',\n",
              " '1901 Tân Sửu',\n",
              " '1902 Nhâm Dần',\n",
              " '1903 Quý Mão (Mẹo)',\n",
              " '1904 Giáp Thìn',\n",
              " '1905 Ất Tỵ',\n",
              " '1906 Bính Ngọ',\n",
              " '1907 Đinh Mùi',\n",
              " '1908 Mậu Thân',\n",
              " '1909 Kỷ Dậu',\n",
              " '1910 Canh Tuất',\n",
              " '1911 Tân Hợi',\n",
              " '1912 Nhâm Tý',\n",
              " '1913 Quý Sửu',\n",
              " '1914 Giáp Dần',\n",
              " '1915 Ất Mão (Mẹo)',\n",
              " '1916 Bính Thìn',\n",
              " '1917 Đinh Tỵ',\n",
              " '1918 Mậu Ngọ',\n",
              " '1919 Kỷ Mùi',\n",
              " '1920 Canh Thân',\n",
              " '1921 Tân Dậu',\n",
              " '1922 Nhâm Tuất',\n",
              " '1923 Quý Hợi',\n",
              " '1924 Giáp Tý',\n",
              " '1925 Ất Sửu',\n",
              " '1926 Bính Dần',\n",
              " '1927 Đinh Mão (Mẹo)',\n",
              " '1928 Mậu Thìn',\n",
              " '1929 Kỷ Tỵ',\n",
              " '1930 Canh Ngọ',\n",
              " '1931 Tân Mùi',\n",
              " '1932 Nhâm Thân',\n",
              " '1933 Quý Dậu',\n",
              " '1934 Giáp Tuất',\n",
              " '1935 Ất Hợi',\n",
              " '1936 Bính Tý',\n",
              " '1937 Đinh Sửu',\n",
              " '1938 Mậu Dần',\n",
              " '1939 Kỷ Mão (Mẹo)',\n",
              " '1940 Canh Thìn',\n",
              " '1941 Tân Tỵ',\n",
              " '1942 Nhâm Ngọ',\n",
              " '1943 Quý Mùi',\n",
              " '1944 Giáp Thân',\n",
              " '1945 Ất Dậu',\n",
              " '1946 Bính Tuất',\n",
              " '1947 Đinh Hợi',\n",
              " '1948 Mậu Tý',\n",
              " '1949 Kỷ Sửu',\n",
              " '1950 Canh Dần',\n",
              " '1951 Tân Mão (Mẹo)',\n",
              " '1952 Nhâm Thìn',\n",
              " '1953 Quý Tỵ',\n",
              " '1954 Giáp Ngọ',\n",
              " '1955 Ất Mùi',\n",
              " '1956 Bính Thân',\n",
              " '1957 Đinh Dậu',\n",
              " '1958 Mậu Tuất',\n",
              " '1959 Kỷ Hợi',\n",
              " '1960 Canh Tý',\n",
              " '1961 Tân Sửu',\n",
              " '1962 Nhâm Dần',\n",
              " '1963 Quý Mão (Mẹo)',\n",
              " '1964 Giáp Thìn',\n",
              " '1965 Ất Tỵ',\n",
              " '1966 Bính Ngọ',\n",
              " '1967 Đinh Mùi',\n",
              " '1968 Mậu Thân',\n",
              " '1969 Kỷ Dậu',\n",
              " '1970 Canh Tuất',\n",
              " '1971 Tân Hợi',\n",
              " '1972 Nhâm Tý',\n",
              " '1973 Quý Sửu',\n",
              " '1974 Giáp Dần',\n",
              " '1975 Ất Mão (Mẹo)',\n",
              " '1976 Bính Thìn',\n",
              " '1977 Đinh Tỵ',\n",
              " '1978 Mậu Ngọ',\n",
              " '1979 Kỷ Mùi',\n",
              " '1980 Canh Thân',\n",
              " '1981 Tân Dậu',\n",
              " '1982 Nhâm Tuất',\n",
              " '1983 Quý Hợi',\n",
              " '1984 Giáp Tý',\n",
              " '1985 Ất Sửu',\n",
              " '1986 Bính Dần',\n",
              " '1987 Đinh Mão (Mẹo)',\n",
              " '1988 Mậu Thìn',\n",
              " '1989 Kỷ Tỵ',\n",
              " '1990 Canh Ngọ',\n",
              " '1991 Tân Mùi',\n",
              " '1992 Nhâm Thân',\n",
              " '1993 Quý Dậu',\n",
              " '1994 Giáp Tuất',\n",
              " '1995 Ất Hợi',\n",
              " '1996 Bính Tý',\n",
              " '1997 Đinh Sửu',\n",
              " '1998 Mậu Dần',\n",
              " '1999 Kỷ Mão (Mẹo)',\n",
              " '2000 Canh Thìn',\n",
              " '2001 Tân Tỵ',\n",
              " '2002 Nhâm Ngọ',\n",
              " '2003 Quý Mùi',\n",
              " '2004 Giáp Thân',\n",
              " '2005 Ất Dậu',\n",
              " '2006 Bính Tuất',\n",
              " '2007 Đinh Hợi',\n",
              " '2008 Mậu Tý',\n",
              " '2009 Kỷ Sửu',\n",
              " '2010 Canh Dần',\n",
              " '2011 Tân Mão (Mẹo)',\n",
              " '2012 Nhâm Thìn',\n",
              " '2013 Quý Tỵ',\n",
              " '2014 Giáp Ngọ',\n",
              " '2015 Ất Mùi',\n",
              " '2016 Bính Thân',\n",
              " '2017 Đinh Dậu',\n",
              " '2018 Mậu Tuất',\n",
              " '2019 Kỷ Hợi']"
            ]
          },
          "metadata": {
            "tags": []
          },
          "execution_count": 48
        }
      ]
    }
  ]
}