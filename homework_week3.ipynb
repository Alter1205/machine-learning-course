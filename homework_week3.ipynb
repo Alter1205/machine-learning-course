{
  "nbformat": 4,
  "nbformat_minor": 0,
  "metadata": {
    "colab": {
      "name": "homework_week3",
      "provenance": [],
      "collapsed_sections": [],
      "authorship_tag": "ABX9TyPLLlYILJdBeaDqz1lLzTgA",
      "include_colab_link": true
    },
    "kernelspec": {
      "name": "python3",
      "display_name": "Python 3"
    }
  },
  "cells": [
    {
      "cell_type": "markdown",
      "metadata": {
        "id": "view-in-github",
        "colab_type": "text"
      },
      "source": [
        "<a href=\"https://colab.research.google.com/github/Alter1205/machine-learning-course/blob/master/homework_week3.ipynb\" target=\"_parent\"><img src=\"https://colab.research.google.com/assets/colab-badge.svg\" alt=\"Open In Colab\"/></a>"
      ]
    },
    {
      "cell_type": "code",
      "metadata": {
        "id": "SXfBkomgxfDD"
      },
      "source": [
        "import numpy as np"
      ],
      "execution_count": 180,
      "outputs": []
    },
    {
      "cell_type": "code",
      "metadata": {
        "id": "CGGs7pO9x7Vs"
      },
      "source": [
        "from sklearn.datasets import load_iris\n",
        "data = load_iris()\n",
        "X, Y = data.data, data.target"
      ],
      "execution_count": 181,
      "outputs": []
    },
    {
      "cell_type": "code",
      "metadata": {
        "id": "iGxYTBPMy70m"
      },
      "source": [
        "# only classify class 1 vs. class 2\n",
        "\n",
        "idx = Y>0\n",
        "X = X[idx, :]\n",
        "Y = Y[idx]"
      ],
      "execution_count": 182,
      "outputs": []
    },
    {
      "cell_type": "markdown",
      "metadata": {
        "id": "O7QYD97o2a3W"
      },
      "source": [
        "\n",
        "Data normalization\n",
        "\n",
        "Remember: normalization is done per feature, not all at once. Also, remember that Y is [1, 2] instead of [0, 1]."
      ]
    },
    {
      "cell_type": "code",
      "metadata": {
        "id": "E3suxyvcyXfV"
      },
      "source": [
        "# Write your code here. Don't forget the bias!\n",
        "\n",
        "#z-score\n",
        "def z_score(x):\n",
        "  sig = np.std(x.T)\n",
        "  u = np.mean(x.T)\n",
        "  z = (x - u)/sig\n",
        "  return z\n",
        "for i in range(0,4):\n",
        "  X[:,i] = z_score(X[:,i])\n",
        "#X = z_score(X)\n",
        "Y = Y-1"
      ],
      "execution_count": 183,
      "outputs": []
    },
    {
      "cell_type": "markdown",
      "metadata": {
        "id": "Ywaa91On72Mn"
      },
      "source": [
        "\n",
        "Define classification model\n",
        "\n",
        "\n",
        "Create parameters here. Initialize with zeros. In case you forgot: $Y = \\sigma(X\\Theta)$."
      ]
    },
    {
      "cell_type": "code",
      "metadata": {
        "colab": {
          "base_uri": "https://localhost:8080/"
        },
        "id": "M3OcxVJTJo3O",
        "outputId": "b9b7be6b-bbb8-4b95-b6ea-e4e20d140e34"
      },
      "source": [
        "X = np.concatenate((np.ones((Y.size, 1)), X), axis = 1)\n",
        "weight = np.zeros(X.shape[1])\n",
        "weight.shape"
      ],
      "execution_count": 184,
      "outputs": [
        {
          "output_type": "execute_result",
          "data": {
            "text/plain": [
              "(5,)"
            ]
          },
          "metadata": {
            "tags": []
          },
          "execution_count": 184
        }
      ]
    },
    {
      "cell_type": "markdown",
      "metadata": {
        "id": "srUwSFGd8YSO"
      },
      "source": [
        "\n",
        "Define evaluation metrics"
      ]
    },
    {
      "cell_type": "code",
      "metadata": {
        "colab": {
          "base_uri": "https://localhost:8080/"
        },
        "id": "yoZmFTlG8SB0",
        "outputId": "65234858-d902-4a89-e45a-4ba0c5232da0"
      },
      "source": [
        "def accuracy(X, Y, weight):\n",
        "    '''\n",
        "    Evaluate the model, represented by `weight`, with data (X, Y).\n",
        "    \n",
        "    Input:\n",
        "        X:      data features\n",
        "        Y:      data labels\n",
        "        weight: model weights\n",
        "    Ouput:\n",
        "        Model accuracy on input data.\n",
        "    '''\n",
        "    \n",
        "    # implement your code here\n",
        "    y = []\n",
        "    for x in sigmoid(X @ weight):\n",
        "      if x > 0.5:\n",
        "        y.append(1)\n",
        "      else:\n",
        "        y.append(0)\n",
        "    acc = float(np.sum(Y == y))/(Y.size)\n",
        "    return acc\n",
        "ac = accuracy(X,Y,weight)\n",
        "ac"
      ],
      "execution_count": 185,
      "outputs": [
        {
          "output_type": "execute_result",
          "data": {
            "text/plain": [
              "0.5"
            ]
          },
          "metadata": {
            "tags": []
          },
          "execution_count": 185
        }
      ]
    },
    {
      "cell_type": "markdown",
      "metadata": {
        "id": "e2HZV6RJ8tYo"
      },
      "source": [
        "Hyperparameters"
      ]
    },
    {
      "cell_type": "code",
      "metadata": {
        "id": "SLgZ79ll8wQG"
      },
      "source": [
        "# learning rate\n",
        "alpha = 1e-2\n",
        "# epochs\n",
        "epoch = 10000"
      ],
      "execution_count": 186,
      "outputs": []
    },
    {
      "cell_type": "markdown",
      "metadata": {
        "id": "UJfRSev58zua"
      },
      "source": [
        "Train the model."
      ]
    },
    {
      "cell_type": "code",
      "metadata": {
        "colab": {
          "base_uri": "https://localhost:8080/"
        },
        "id": "qaHi3xWK8yfv",
        "outputId": "8166be11-45e9-4163-a170-021990b2f719"
      },
      "source": [
        "# your code here\n",
        "def sigmoid(Z):\n",
        "    return 1/(1+ np.exp(-Z))\n",
        "\n",
        "def loss(X, Y, w):\n",
        "    a = sigmoid(X @ w)\n",
        "    loss = -np.sum( Y * np.log(a) + (1 - Y)* np.log(1-a))/(Y.size)\n",
        "    return loss\n",
        "\n",
        "\n",
        "def gradient_decent(X,Y,weight,alpha,ep):\n",
        "\n",
        "  for _ in range(ep):\n",
        "    w = np.dot(X.T, sigmoid(X @ weight) - Y)/(Y.size)\n",
        "    weight -= alpha*w\n",
        "  return weight\n",
        "weight= gradient_decent(X,Y,weight,alpha,epoch)\n",
        "print(weight)"
      ],
      "execution_count": 187,
      "outputs": [
        {
          "output_type": "stream",
          "text": [
            "[ 0.12047504 -0.44156746 -0.89309501  2.965364    3.3427994 ]\n"
          ],
          "name": "stdout"
        }
      ]
    },
    {
      "cell_type": "code",
      "metadata": {
        "id": "BbK2Lc-f-Q4l"
      },
      "source": [
        "# just to double check\n",
        "assert np.allclose(weight, np.array([0.12047504, -0.44156746, -0.89309501, 2.965364, 3.3427994]))"
      ],
      "execution_count": 188,
      "outputs": []
    },
    {
      "cell_type": "code",
      "metadata": {
        "colab": {
          "base_uri": "https://localhost:8080/"
        },
        "id": "P-vdjVOR_uZN",
        "outputId": "cc94e543-2b2c-4757-8132-cc3205aea772"
      },
      "source": [
        "#model accuracy\n",
        "accuracy(X, Y, weight)"
      ],
      "execution_count": 189,
      "outputs": [
        {
          "output_type": "execute_result",
          "data": {
            "text/plain": [
              "0.96"
            ]
          },
          "metadata": {
            "tags": []
          },
          "execution_count": 189
        }
      ]
    },
    {
      "cell_type": "code",
      "metadata": {
        "colab": {
          "base_uri": "https://localhost:8080/"
        },
        "id": "kaGpgmF3N4KS",
        "outputId": "68807b0d-0251-4181-d11b-3f88cd7a5726"
      },
      "source": [
        "print('Weights:', weight)\n",
        "y = 1 / (1 + np.exp(-X @ weight))\n",
        "loss = -np.sum(Y * np.log(y) + (1 - Y) * np.log(1 - y)) / y.size\n",
        "print('Loss:', loss)\n",
        "print('Accuracy:', accuracy(X, Y, weight))"
      ],
      "execution_count": 190,
      "outputs": [
        {
          "output_type": "stream",
          "text": [
            "Weights: [ 0.12047504 -0.44156746 -0.89309501  2.965364    3.3427994 ]\n",
            "Loss: 0.08662719407135402\n",
            "Accuracy: 0.96\n"
          ],
          "name": "stdout"
        }
      ]
    }
  ]
}