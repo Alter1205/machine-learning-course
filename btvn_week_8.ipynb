{
  "nbformat": 4,
  "nbformat_minor": 0,
  "metadata": {
    "colab": {
      "name": "btvn_week_8.ipynb",
      "provenance": [],
      "collapsed_sections": [],
      "authorship_tag": "ABX9TyMc+c9mDVjWJBUPaCvPvW5u",
      "include_colab_link": true
    },
    "kernelspec": {
      "name": "python3",
      "display_name": "Python 3"
    }
  },
  "cells": [
    {
      "cell_type": "markdown",
      "metadata": {
        "id": "view-in-github",
        "colab_type": "text"
      },
      "source": [
        "<a href=\"https://colab.research.google.com/github/Alter1205/machine-learning-course/blob/master/btvn_week_8.ipynb\" target=\"_parent\"><img src=\"https://colab.research.google.com/assets/colab-badge.svg\" alt=\"Open In Colab\"/></a>"
      ]
    },
    {
      "cell_type": "code",
      "metadata": {
        "id": "ocYl69ygQWG5"
      },
      "source": [
        "import numpy as np \n",
        "import matplotlib.pyplot as plt\n",
        "\n",
        "# Compute distance between each pair of the two collections of inputs\n",
        "from scipy.spatial.distance import cdist\n",
        "np.random.seed(1)"
      ],
      "execution_count": 2,
      "outputs": []
    },
    {
      "cell_type": "code",
      "metadata": {
        "id": "LwRNaHxHQgZt"
      },
      "source": [
        "means = [[1, 1], [5, 4]]\n",
        "cov = [[.5, .3], [.3, .5]]\n",
        "N = 20\n",
        "X0 = np.random.multivariate_normal(means[0], cov, N)\n",
        "X1 = np.random.multivariate_normal(means[1], cov, N)\n",
        "X = np.vstack((X0, X1)).T #data\n",
        "y = np.hstack((np.ones((1, N)), -1*np.ones((1, N)))) #lable"
      ],
      "execution_count": 4,
      "outputs": []
    },
    {
      "cell_type": "code",
      "metadata": {
        "id": "Vslei6QIQoAs",
        "colab": {
          "base_uri": "https://localhost:8080/"
        },
        "outputId": "35750e0d-c351-45fd-84bb-cdc6a914faab"
      },
      "source": [
        "#solving the problem\n",
        "from cvxopt import matrix, solvers\n",
        "# build V\n",
        "# your code is here \n",
        "V = np.concatenate((X0.T, -X1.T), axis = 1)\n",
        "##########\n",
        "\n",
        "# your code is here\n",
        "K = matrix(V.T.dot(V))\n",
        "##########\n",
        "\n",
        "p = matrix(-np.ones((2*N, 1))) # all-one vector \n",
        "# build A, b, G, h \n",
        "G = matrix(-np.eye(2*N)) # for all lambda_n >= 0\n",
        "h = matrix(np.zeros((2*N, 1)))\n",
        "A = matrix(y) # the equality constrain is actually y^T lambda = 0\n",
        "b = matrix(np.zeros((1, 1))) \n",
        "\n",
        "\n",
        "solvers.options['show_progress'] = False\n",
        "sol = solvers.qp(K, p, G, h, A, b)\n",
        "\n",
        "alpha = np.array(sol['x'])\n",
        "print('lambda = ')\n",
        "print(alpha.T)"
      ],
      "execution_count": 7,
      "outputs": [
        {
          "output_type": "stream",
          "text": [
            "lambda = \n",
            "[[1.02135278e-10 6.46457762e-11 6.74379417e-11 1.35852869e-10\n",
            "  5.84960184e-11 4.38201888e-11 1.47058579e-10 5.97061557e-11\n",
            "  1.08762824e-10 1.05926849e-10 7.70331579e-11 5.56002794e-11\n",
            "  4.14738625e-10 5.89467264e-11 1.00220940e-10 3.55909535e-01\n",
            "  5.63297304e-11 7.27530678e-11 1.08835003e-10 4.31834205e-11\n",
            "  5.08104916e-11 1.97019568e-08 3.96874369e-11 3.55909514e-01\n",
            "  4.18493296e-11 4.81273262e-11 3.94925157e-11 7.64854094e-11\n",
            "  6.21756592e-11 1.00123647e-10 5.18790207e-11 1.54021705e-10\n",
            "  8.50279830e-11 6.59016941e-11 7.39115799e-11 3.09957614e-11\n",
            "  1.48840914e-09 7.58818067e-11 5.31274093e-11 4.87628134e-11]]\n"
          ],
          "name": "stdout"
        }
      ]
    },
    {
      "cell_type": "code",
      "metadata": {
        "id": "sfU3SvxU0_-5"
      },
      "source": [
        "# Finding support vector\n",
        "epsilon = 1e-5 # just a small number, greater than 1e-9\n",
        "S = np.where(alpha > epsilon)[0]\n",
        "alphaS = alpha[S]"
      ],
      "execution_count": 9,
      "outputs": []
    },
    {
      "cell_type": "code",
      "metadata": {
        "colab": {
          "base_uri": "https://localhost:8080/"
        },
        "id": "lZZTYmHpK4YD",
        "outputId": "baece5b2-13d7-4868-8c09-03ea907fa7c1"
      },
      "source": [
        "\n",
        "alphaS"
      ],
      "execution_count": 10,
      "outputs": [
        {
          "output_type": "execute_result",
          "data": {
            "text/plain": [
              "array([[0.35590953],\n",
              "       [0.35590951]])"
            ]
          },
          "metadata": {
            "tags": []
          },
          "execution_count": 10
        }
      ]
    },
    {
      "cell_type": "code",
      "metadata": {
        "colab": {
          "base_uri": "https://localhost:8080/"
        },
        "id": "E_IFWej4K52w",
        "outputId": "c5987f04-5b95-4a3e-f242-22b2b508d797"
      },
      "source": [
        "VS = V[:, S]\n",
        "XS = X[:, S]\n",
        "yS = y[:, S]\n",
        "# calculate w and b\n",
        "### your code is here\n",
        "epsilon = 1e-6 # just a small number, greater than 1e-9\n",
        "S = np.where(alpha > epsilon)[0]\n",
        "lS = alpha[S]\n",
        "w = VS.dot(lS)\n",
        "b = np.mean(yS.T - w.T.dot(XS))\n",
        "###########\n",
        "\n",
        "\n",
        "print('w = ', w.T)\n",
        "print('b = ', b)"
      ],
      "execution_count": 16,
      "outputs": [
        {
          "output_type": "stream",
          "text": [
            "w =  [[-0.74560231 -0.39483678]]\n",
            "b =  3.0958788810922373\n"
          ],
          "name": "stdout"
        }
      ]
    },
    {
      "cell_type": "code",
      "metadata": {
        "colab": {
          "base_uri": "https://localhost:8080/",
          "height": 598
        },
        "id": "TjBBZSjHLb92",
        "outputId": "46b082c0-6b82-49c8-c7b3-cfee231c9fac"
      },
      "source": [
        "def plot(w, b, X0, X1, X, S):\n",
        "  fig, ax = plt.subplots(figsize=(10,10))\n",
        "  x1 = np.arange(-10, 10, 0.1)\n",
        "  y1 = -w[0, 0]/w[1, 0]*x1 - b/w[1, 0]\n",
        "  y2 = -w[0, 0]/w[1, 0]*x1 - (b-1)/w[1, 0]\n",
        "  y3 = -w[0, 0]/w[1, 0]*x1 - (b+1)/w[1, 0]\n",
        "  plt.plot(x1, y1, 'k', linewidth = 3)\n",
        "  plt.plot(x1, y2, 'k')\n",
        "  plt.plot(x1, y3, 'k')\n",
        "\n",
        "\n",
        "  # y4 = 10*x1\n",
        "  # plt.plot(x1, y1, 'k')\n",
        "  # plt.fill_between(x1, y1, color='red', alpha=0.1)\n",
        "  # plt.fill_between(x1, y1, y4, color = 'blue', alpha = .1)\n",
        "\n",
        "\n",
        "  plt.plot(X0[:, 0], X0[:, 1], 'bs', markersize = 8, alpha = .8)\n",
        "  plt.plot(X1[:, 0], X1[:, 1], 'ro', markersize = 8, alpha = .8)\n",
        "\n",
        "  plt.axis('equal')\n",
        "  plt.ylim(np.min(X[1, :])*1.05, np.max(X[1, :])*1.05)\n",
        "  plt.xlim(np.min(X[0, :])*1.05, np.max(X[0, :])*1.05)\n",
        "\n",
        "  # hide tikcs \n",
        "  cur_axes = plt.gca()\n",
        "  cur_axes.axes.get_xaxis().set_ticks([])\n",
        "  cur_axes.axes.get_yaxis().set_ticks([])\n",
        "\n",
        "  # add circles around support vectors \n",
        "  for m in S:\n",
        "      circle = plt.Circle((X[0, m], X[1, m] ), 0.1, color='k', fill = False)\n",
        "      ax.add_artist(circle)\n",
        "\n",
        "\n",
        "  plt.xlabel('$x_1$', fontsize = 20)\n",
        "  plt.ylabel('$x_2$', fontsize = 20)\n",
        "  plt.show()\n",
        "plot(w, b, X0, X1, X, S)"
      ],
      "execution_count": 17,
      "outputs": [
        {
          "output_type": "display_data",
          "data": {
            "image/png": "[encoded data removed]",
            "text/plain": [
              "<Figure size 720x720 with 1 Axes>"
            ]
          },
          "metadata": {
            "tags": []
          }
        }
      ]
    }
  ]
}